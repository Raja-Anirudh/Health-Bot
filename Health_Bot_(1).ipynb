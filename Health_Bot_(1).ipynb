{
  "cells": [
    {
      "cell_type": "markdown",
      "source": [
        "### Installing Libraries"
      ],
      "metadata": {
        "id": "bf0T8nI-__RS"
      }
    },
    {
      "cell_type": "code",
      "source": [
        "!pip install numpy scipy\n",
        "!pip install scikit-learn\n",
        "!pip install pillow\n",
        "!pip install h5py"
      ],
      "metadata": {
        "colab": {
          "base_uri": "https://localhost:8080/"
        },
        "id": "GsxcYXgVAXd_",
        "outputId": "1cfee4eb-f39b-42b6-effc-cd245c11d438"
      },
      "execution_count": null,
      "outputs": [
        {
          "output_type": "stream",
          "name": "stdout",
          "text": [
            "Looking in indexes: https://pypi.org/simple, https://us-python.pkg.dev/colab-wheels/public/simple/\n",
            "Requirement already satisfied: numpy in /usr/local/lib/python3.7/dist-packages (1.21.6)\n",
            "Requirement already satisfied: scipy in /usr/local/lib/python3.7/dist-packages (1.7.3)\n",
            "Looking in indexes: https://pypi.org/simple, https://us-python.pkg.dev/colab-wheels/public/simple/\n",
            "Requirement already satisfied: scikit-learn in /usr/local/lib/python3.7/dist-packages (1.0.2)\n",
            "Requirement already satisfied: scipy>=1.1.0 in /usr/local/lib/python3.7/dist-packages (from scikit-learn) (1.7.3)\n",
            "Requirement already satisfied: joblib>=0.11 in /usr/local/lib/python3.7/dist-packages (from scikit-learn) (1.2.0)\n",
            "Requirement already satisfied: numpy>=1.14.6 in /usr/local/lib/python3.7/dist-packages (from scikit-learn) (1.21.6)\n",
            "Requirement already satisfied: threadpoolctl>=2.0.0 in /usr/local/lib/python3.7/dist-packages (from scikit-learn) (3.1.0)\n",
            "Looking in indexes: https://pypi.org/simple, https://us-python.pkg.dev/colab-wheels/public/simple/\n",
            "Requirement already satisfied: pillow in /usr/local/lib/python3.7/dist-packages (7.1.2)\n",
            "Looking in indexes: https://pypi.org/simple, https://us-python.pkg.dev/colab-wheels/public/simple/\n",
            "Requirement already satisfied: h5py in /usr/local/lib/python3.7/dist-packages (3.1.0)\n",
            "Requirement already satisfied: numpy>=1.14.5 in /usr/local/lib/python3.7/dist-packages (from h5py) (1.21.6)\n",
            "Requirement already satisfied: cached-property in /usr/local/lib/python3.7/dist-packages (from h5py) (1.5.2)\n"
          ]
        }
      ]
    },
    {
      "cell_type": "code",
      "execution_count": null,
      "metadata": {
        "colab": {
          "base_uri": "https://localhost:8080/"
        },
        "id": "UaFaRSdJuHeq",
        "outputId": "042e00ba-d0b1-49aa-f0fb-7e81f916106f"
      },
      "outputs": [
        {
          "output_type": "stream",
          "name": "stdout",
          "text": [
            "Looking in indexes: https://pypi.org/simple, https://us-python.pkg.dev/colab-wheels/public/simple/\n",
            "Requirement already satisfied: tensorflow in /usr/local/lib/python3.7/dist-packages (2.9.2)\n",
            "Requirement already satisfied: google-pasta>=0.1.1 in /usr/local/lib/python3.7/dist-packages (from tensorflow) (0.2.0)\n",
            "Requirement already satisfied: h5py>=2.9.0 in /usr/local/lib/python3.7/dist-packages (from tensorflow) (3.1.0)\n",
            "Collecting tensorboard<2.10,>=2.9\n",
            "  Using cached tensorboard-2.9.1-py3-none-any.whl (5.8 MB)\n",
            "Requirement already satisfied: absl-py>=1.0.0 in /usr/local/lib/python3.7/dist-packages (from tensorflow) (1.3.0)\n",
            "Collecting flatbuffers<2,>=1.12\n",
            "  Using cached flatbuffers-1.12-py2.py3-none-any.whl (15 kB)\n",
            "Requirement already satisfied: packaging in /usr/local/lib/python3.7/dist-packages (from tensorflow) (21.3)\n",
            "Requirement already satisfied: libclang>=13.0.0 in /usr/local/lib/python3.7/dist-packages (from tensorflow) (14.0.6)\n",
            "Requirement already satisfied: opt-einsum>=2.3.2 in /usr/local/lib/python3.7/dist-packages (from tensorflow) (3.3.0)\n",
            "Requirement already satisfied: keras-preprocessing>=1.1.1 in /usr/local/lib/python3.7/dist-packages (from tensorflow) (1.1.2)\n",
            "Requirement already satisfied: setuptools in /usr/local/lib/python3.7/dist-packages (from tensorflow) (57.4.0)\n",
            "Requirement already satisfied: astunparse>=1.6.0 in /usr/local/lib/python3.7/dist-packages (from tensorflow) (1.6.3)\n",
            "Requirement already satisfied: termcolor>=1.1.0 in /usr/local/lib/python3.7/dist-packages (from tensorflow) (2.0.1)\n",
            "Requirement already satisfied: six>=1.12.0 in /usr/local/lib/python3.7/dist-packages (from tensorflow) (1.15.0)\n",
            "Requirement already satisfied: numpy>=1.20 in /usr/local/lib/python3.7/dist-packages (from tensorflow) (1.21.6)\n",
            "Requirement already satisfied: protobuf<3.20,>=3.9.2 in /usr/local/lib/python3.7/dist-packages (from tensorflow) (3.17.3)\n",
            "Requirement already satisfied: tensorflow-io-gcs-filesystem>=0.23.1 in /usr/local/lib/python3.7/dist-packages (from tensorflow) (0.27.0)\n",
            "Requirement already satisfied: gast<=0.4.0,>=0.2.1 in /usr/local/lib/python3.7/dist-packages (from tensorflow) (0.4.0)\n",
            "Collecting tensorflow-estimator<2.10.0,>=2.9.0rc0\n",
            "  Using cached tensorflow_estimator-2.9.0-py2.py3-none-any.whl (438 kB)\n",
            "Requirement already satisfied: grpcio<2.0,>=1.24.3 in /usr/local/lib/python3.7/dist-packages (from tensorflow) (1.49.1)\n",
            "Requirement already satisfied: typing-extensions>=3.6.6 in /usr/local/lib/python3.7/dist-packages (from tensorflow) (4.1.1)\n",
            "Collecting keras<2.10.0,>=2.9.0rc0\n",
            "  Using cached keras-2.9.0-py2.py3-none-any.whl (1.6 MB)\n",
            "Requirement already satisfied: wrapt>=1.11.0 in /usr/local/lib/python3.7/dist-packages (from tensorflow) (1.14.1)\n",
            "Requirement already satisfied: wheel<1.0,>=0.23.0 in /usr/local/lib/python3.7/dist-packages (from astunparse>=1.6.0->tensorflow) (0.37.1)\n",
            "Requirement already satisfied: cached-property in /usr/local/lib/python3.7/dist-packages (from h5py>=2.9.0->tensorflow) (1.5.2)\n",
            "Requirement already satisfied: google-auth<3,>=1.6.3 in /usr/local/lib/python3.7/dist-packages (from tensorboard<2.10,>=2.9->tensorflow) (1.35.0)\n",
            "Requirement already satisfied: tensorboard-plugin-wit>=1.6.0 in /usr/local/lib/python3.7/dist-packages (from tensorboard<2.10,>=2.9->tensorflow) (1.8.1)\n",
            "Requirement already satisfied: tensorboard-data-server<0.7.0,>=0.6.0 in /usr/local/lib/python3.7/dist-packages (from tensorboard<2.10,>=2.9->tensorflow) (0.6.1)\n",
            "Requirement already satisfied: requests<3,>=2.21.0 in /usr/local/lib/python3.7/dist-packages (from tensorboard<2.10,>=2.9->tensorflow) (2.23.0)\n",
            "Requirement already satisfied: markdown>=2.6.8 in /usr/local/lib/python3.7/dist-packages (from tensorboard<2.10,>=2.9->tensorflow) (3.4.1)\n",
            "Requirement already satisfied: werkzeug>=1.0.1 in /usr/local/lib/python3.7/dist-packages (from tensorboard<2.10,>=2.9->tensorflow) (1.0.1)\n",
            "Requirement already satisfied: google-auth-oauthlib<0.5,>=0.4.1 in /usr/local/lib/python3.7/dist-packages (from tensorboard<2.10,>=2.9->tensorflow) (0.4.6)\n",
            "Requirement already satisfied: rsa<5,>=3.1.4 in /usr/local/lib/python3.7/dist-packages (from google-auth<3,>=1.6.3->tensorboard<2.10,>=2.9->tensorflow) (4.9)\n",
            "Requirement already satisfied: cachetools<5.0,>=2.0.0 in /usr/local/lib/python3.7/dist-packages (from google-auth<3,>=1.6.3->tensorboard<2.10,>=2.9->tensorflow) (4.2.4)\n",
            "Requirement already satisfied: pyasn1-modules>=0.2.1 in /usr/local/lib/python3.7/dist-packages (from google-auth<3,>=1.6.3->tensorboard<2.10,>=2.9->tensorflow) (0.2.8)\n",
            "Requirement already satisfied: requests-oauthlib>=0.7.0 in /usr/local/lib/python3.7/dist-packages (from google-auth-oauthlib<0.5,>=0.4.1->tensorboard<2.10,>=2.9->tensorflow) (1.3.1)\n",
            "Requirement already satisfied: importlib-metadata>=4.4 in /usr/local/lib/python3.7/dist-packages (from markdown>=2.6.8->tensorboard<2.10,>=2.9->tensorflow) (4.13.0)\n",
            "Requirement already satisfied: zipp>=0.5 in /usr/local/lib/python3.7/dist-packages (from importlib-metadata>=4.4->markdown>=2.6.8->tensorboard<2.10,>=2.9->tensorflow) (3.9.0)\n",
            "Requirement already satisfied: pyasn1<0.5.0,>=0.4.6 in /usr/local/lib/python3.7/dist-packages (from pyasn1-modules>=0.2.1->google-auth<3,>=1.6.3->tensorboard<2.10,>=2.9->tensorflow) (0.4.8)\n",
            "Requirement already satisfied: certifi>=2017.4.17 in /usr/local/lib/python3.7/dist-packages (from requests<3,>=2.21.0->tensorboard<2.10,>=2.9->tensorflow) (2022.9.24)\n",
            "Requirement already satisfied: idna<3,>=2.5 in /usr/local/lib/python3.7/dist-packages (from requests<3,>=2.21.0->tensorboard<2.10,>=2.9->tensorflow) (2.10)\n",
            "Requirement already satisfied: urllib3!=1.25.0,!=1.25.1,<1.26,>=1.21.1 in /usr/local/lib/python3.7/dist-packages (from requests<3,>=2.21.0->tensorboard<2.10,>=2.9->tensorflow) (1.24.3)\n",
            "Requirement already satisfied: chardet<4,>=3.0.2 in /usr/local/lib/python3.7/dist-packages (from requests<3,>=2.21.0->tensorboard<2.10,>=2.9->tensorflow) (3.0.4)\n",
            "Requirement already satisfied: oauthlib>=3.0.0 in /usr/local/lib/python3.7/dist-packages (from requests-oauthlib>=0.7.0->google-auth-oauthlib<0.5,>=0.4.1->tensorboard<2.10,>=2.9->tensorflow) (3.2.1)\n",
            "Requirement already satisfied: pyparsing!=3.0.5,>=2.0.2 in /usr/local/lib/python3.7/dist-packages (from packaging->tensorflow) (3.0.9)\n",
            "Installing collected packages: tensorflow-estimator, tensorboard, keras, flatbuffers\n",
            "  Attempting uninstall: tensorflow-estimator\n",
            "    Found existing installation: tensorflow-estimator 2.10.0\n",
            "    Uninstalling tensorflow-estimator-2.10.0:\n",
            "      Successfully uninstalled tensorflow-estimator-2.10.0\n",
            "  Attempting uninstall: tensorboard\n",
            "    Found existing installation: tensorboard 2.10.1\n",
            "    Uninstalling tensorboard-2.10.1:\n",
            "      Successfully uninstalled tensorboard-2.10.1\n",
            "  Attempting uninstall: keras\n",
            "    Found existing installation: keras 2.10.0\n",
            "    Uninstalling keras-2.10.0:\n",
            "      Successfully uninstalled keras-2.10.0\n",
            "  Attempting uninstall: flatbuffers\n",
            "    Found existing installation: flatbuffers 22.9.24\n",
            "    Uninstalling flatbuffers-22.9.24:\n",
            "      Successfully uninstalled flatbuffers-22.9.24\n",
            "\u001b[31mERROR: pip's dependency resolver does not currently take into account all the packages that are installed. This behaviour is the source of the following dependency conflicts.\n",
            "tensorflow-gpu 2.10.0 requires flatbuffers>=2.0, but you have flatbuffers 1.12 which is incompatible.\n",
            "tensorflow-gpu 2.10.0 requires keras<2.11,>=2.10.0, but you have keras 2.9.0 which is incompatible.\n",
            "tensorflow-gpu 2.10.0 requires tensorboard<2.11,>=2.10, but you have tensorboard 2.9.1 which is incompatible.\n",
            "tensorflow-gpu 2.10.0 requires tensorflow-estimator<2.11,>=2.10.0, but you have tensorflow-estimator 2.9.0 which is incompatible.\u001b[0m\n",
            "Successfully installed flatbuffers-1.12 keras-2.9.0 tensorboard-2.9.1 tensorflow-estimator-2.9.0\n"
          ]
        }
      ],
      "source": [
        "!pip install tensorflow"
      ]
    },
    {
      "cell_type": "code",
      "execution_count": null,
      "metadata": {
        "colab": {
          "base_uri": "https://localhost:8080/"
        },
        "id": "_uhP8mPiuTT8",
        "outputId": "f0205487-c9b9-4d07-81d9-51fa784d7b0b"
      },
      "outputs": [
        {
          "output_type": "stream",
          "name": "stdout",
          "text": [
            "Looking in indexes: https://pypi.org/simple, https://us-python.pkg.dev/colab-wheels/public/simple/\n",
            "Requirement already satisfied: keras in /usr/local/lib/python3.7/dist-packages (2.9.0)\n"
          ]
        }
      ],
      "source": [
        "!pip install keras"
      ]
    },
    {
      "cell_type": "code",
      "execution_count": null,
      "metadata": {
        "colab": {
          "base_uri": "https://localhost:8080/"
        },
        "id": "tiLsRoupuNH6",
        "outputId": "61992fb3-f965-4318-8307-aa269710791e"
      },
      "outputs": [
        {
          "output_type": "stream",
          "name": "stdout",
          "text": [
            "Looking in indexes: https://pypi.org/simple, https://us-python.pkg.dev/colab-wheels/public/simple/\n",
            "Requirement already satisfied: tensorflow-gpu in /usr/local/lib/python3.7/dist-packages (2.10.0)\n",
            "Requirement already satisfied: h5py>=2.9.0 in /usr/local/lib/python3.7/dist-packages (from tensorflow-gpu) (3.1.0)\n",
            "Collecting tensorboard<2.11,>=2.10\n",
            "  Using cached tensorboard-2.10.1-py3-none-any.whl (5.9 MB)\n",
            "Requirement already satisfied: tensorflow-io-gcs-filesystem>=0.23.1 in /usr/local/lib/python3.7/dist-packages (from tensorflow-gpu) (0.27.0)\n",
            "Requirement already satisfied: six>=1.12.0 in /usr/local/lib/python3.7/dist-packages (from tensorflow-gpu) (1.15.0)\n",
            "Requirement already satisfied: wrapt>=1.11.0 in /usr/local/lib/python3.7/dist-packages (from tensorflow-gpu) (1.14.1)\n",
            "Requirement already satisfied: grpcio<2.0,>=1.24.3 in /usr/local/lib/python3.7/dist-packages (from tensorflow-gpu) (1.49.1)\n",
            "Requirement already satisfied: opt-einsum>=2.3.2 in /usr/local/lib/python3.7/dist-packages (from tensorflow-gpu) (3.3.0)\n",
            "Requirement already satisfied: libclang>=13.0.0 in /usr/local/lib/python3.7/dist-packages (from tensorflow-gpu) (14.0.6)\n",
            "Requirement already satisfied: setuptools in /usr/local/lib/python3.7/dist-packages (from tensorflow-gpu) (57.4.0)\n",
            "Requirement already satisfied: astunparse>=1.6.0 in /usr/local/lib/python3.7/dist-packages (from tensorflow-gpu) (1.6.3)\n",
            "Requirement already satisfied: absl-py>=1.0.0 in /usr/local/lib/python3.7/dist-packages (from tensorflow-gpu) (1.3.0)\n",
            "Requirement already satisfied: packaging in /usr/local/lib/python3.7/dist-packages (from tensorflow-gpu) (21.3)\n",
            "Collecting tensorflow-estimator<2.11,>=2.10.0\n",
            "  Using cached tensorflow_estimator-2.10.0-py2.py3-none-any.whl (438 kB)\n",
            "Collecting flatbuffers>=2.0\n",
            "  Using cached flatbuffers-22.9.24-py2.py3-none-any.whl (26 kB)\n",
            "Requirement already satisfied: keras-preprocessing>=1.1.1 in /usr/local/lib/python3.7/dist-packages (from tensorflow-gpu) (1.1.2)\n",
            "Requirement already satisfied: numpy>=1.20 in /usr/local/lib/python3.7/dist-packages (from tensorflow-gpu) (1.21.6)\n",
            "Collecting keras<2.11,>=2.10.0\n",
            "  Using cached keras-2.10.0-py2.py3-none-any.whl (1.7 MB)\n",
            "Requirement already satisfied: google-pasta>=0.1.1 in /usr/local/lib/python3.7/dist-packages (from tensorflow-gpu) (0.2.0)\n",
            "Requirement already satisfied: gast<=0.4.0,>=0.2.1 in /usr/local/lib/python3.7/dist-packages (from tensorflow-gpu) (0.4.0)\n",
            "Requirement already satisfied: typing-extensions>=3.6.6 in /usr/local/lib/python3.7/dist-packages (from tensorflow-gpu) (4.1.1)\n",
            "Requirement already satisfied: protobuf<3.20,>=3.9.2 in /usr/local/lib/python3.7/dist-packages (from tensorflow-gpu) (3.17.3)\n",
            "Requirement already satisfied: termcolor>=1.1.0 in /usr/local/lib/python3.7/dist-packages (from tensorflow-gpu) (2.0.1)\n",
            "Requirement already satisfied: wheel<1.0,>=0.23.0 in /usr/local/lib/python3.7/dist-packages (from astunparse>=1.6.0->tensorflow-gpu) (0.37.1)\n",
            "Requirement already satisfied: cached-property in /usr/local/lib/python3.7/dist-packages (from h5py>=2.9.0->tensorflow-gpu) (1.5.2)\n",
            "Requirement already satisfied: google-auth-oauthlib<0.5,>=0.4.1 in /usr/local/lib/python3.7/dist-packages (from tensorboard<2.11,>=2.10->tensorflow-gpu) (0.4.6)\n",
            "Requirement already satisfied: google-auth<3,>=1.6.3 in /usr/local/lib/python3.7/dist-packages (from tensorboard<2.11,>=2.10->tensorflow-gpu) (1.35.0)\n",
            "Requirement already satisfied: tensorboard-data-server<0.7.0,>=0.6.0 in /usr/local/lib/python3.7/dist-packages (from tensorboard<2.11,>=2.10->tensorflow-gpu) (0.6.1)\n",
            "Requirement already satisfied: tensorboard-plugin-wit>=1.6.0 in /usr/local/lib/python3.7/dist-packages (from tensorboard<2.11,>=2.10->tensorflow-gpu) (1.8.1)\n",
            "Requirement already satisfied: werkzeug>=1.0.1 in /usr/local/lib/python3.7/dist-packages (from tensorboard<2.11,>=2.10->tensorflow-gpu) (1.0.1)\n",
            "Requirement already satisfied: markdown>=2.6.8 in /usr/local/lib/python3.7/dist-packages (from tensorboard<2.11,>=2.10->tensorflow-gpu) (3.4.1)\n",
            "Requirement already satisfied: requests<3,>=2.21.0 in /usr/local/lib/python3.7/dist-packages (from tensorboard<2.11,>=2.10->tensorflow-gpu) (2.23.0)\n",
            "Requirement already satisfied: cachetools<5.0,>=2.0.0 in /usr/local/lib/python3.7/dist-packages (from google-auth<3,>=1.6.3->tensorboard<2.11,>=2.10->tensorflow-gpu) (4.2.4)\n",
            "Requirement already satisfied: rsa<5,>=3.1.4 in /usr/local/lib/python3.7/dist-packages (from google-auth<3,>=1.6.3->tensorboard<2.11,>=2.10->tensorflow-gpu) (4.9)\n",
            "Requirement already satisfied: pyasn1-modules>=0.2.1 in /usr/local/lib/python3.7/dist-packages (from google-auth<3,>=1.6.3->tensorboard<2.11,>=2.10->tensorflow-gpu) (0.2.8)\n",
            "Requirement already satisfied: requests-oauthlib>=0.7.0 in /usr/local/lib/python3.7/dist-packages (from google-auth-oauthlib<0.5,>=0.4.1->tensorboard<2.11,>=2.10->tensorflow-gpu) (1.3.1)\n",
            "Requirement already satisfied: importlib-metadata>=4.4 in /usr/local/lib/python3.7/dist-packages (from markdown>=2.6.8->tensorboard<2.11,>=2.10->tensorflow-gpu) (4.13.0)\n",
            "Requirement already satisfied: zipp>=0.5 in /usr/local/lib/python3.7/dist-packages (from importlib-metadata>=4.4->markdown>=2.6.8->tensorboard<2.11,>=2.10->tensorflow-gpu) (3.9.0)\n",
            "Requirement already satisfied: pyasn1<0.5.0,>=0.4.6 in /usr/local/lib/python3.7/dist-packages (from pyasn1-modules>=0.2.1->google-auth<3,>=1.6.3->tensorboard<2.11,>=2.10->tensorflow-gpu) (0.4.8)\n",
            "Requirement already satisfied: idna<3,>=2.5 in /usr/local/lib/python3.7/dist-packages (from requests<3,>=2.21.0->tensorboard<2.11,>=2.10->tensorflow-gpu) (2.10)\n",
            "Requirement already satisfied: certifi>=2017.4.17 in /usr/local/lib/python3.7/dist-packages (from requests<3,>=2.21.0->tensorboard<2.11,>=2.10->tensorflow-gpu) (2022.9.24)\n",
            "Requirement already satisfied: chardet<4,>=3.0.2 in /usr/local/lib/python3.7/dist-packages (from requests<3,>=2.21.0->tensorboard<2.11,>=2.10->tensorflow-gpu) (3.0.4)\n",
            "Requirement already satisfied: urllib3!=1.25.0,!=1.25.1,<1.26,>=1.21.1 in /usr/local/lib/python3.7/dist-packages (from requests<3,>=2.21.0->tensorboard<2.11,>=2.10->tensorflow-gpu) (1.24.3)\n",
            "Requirement already satisfied: oauthlib>=3.0.0 in /usr/local/lib/python3.7/dist-packages (from requests-oauthlib>=0.7.0->google-auth-oauthlib<0.5,>=0.4.1->tensorboard<2.11,>=2.10->tensorflow-gpu) (3.2.1)\n",
            "Requirement already satisfied: pyparsing!=3.0.5,>=2.0.2 in /usr/local/lib/python3.7/dist-packages (from packaging->tensorflow-gpu) (3.0.9)\n",
            "Installing collected packages: tensorflow-estimator, tensorboard, keras, flatbuffers\n",
            "  Attempting uninstall: tensorflow-estimator\n",
            "    Found existing installation: tensorflow-estimator 2.9.0\n",
            "    Uninstalling tensorflow-estimator-2.9.0:\n",
            "      Successfully uninstalled tensorflow-estimator-2.9.0\n",
            "  Attempting uninstall: tensorboard\n",
            "    Found existing installation: tensorboard 2.9.1\n",
            "    Uninstalling tensorboard-2.9.1:\n",
            "      Successfully uninstalled tensorboard-2.9.1\n",
            "  Attempting uninstall: keras\n",
            "    Found existing installation: keras 2.9.0\n",
            "    Uninstalling keras-2.9.0:\n",
            "      Successfully uninstalled keras-2.9.0\n",
            "  Attempting uninstall: flatbuffers\n",
            "    Found existing installation: flatbuffers 1.12\n",
            "    Uninstalling flatbuffers-1.12:\n",
            "      Successfully uninstalled flatbuffers-1.12\n",
            "\u001b[31mERROR: pip's dependency resolver does not currently take into account all the packages that are installed. This behaviour is the source of the following dependency conflicts.\n",
            "tensorflow 2.9.2 requires flatbuffers<2,>=1.12, but you have flatbuffers 22.9.24 which is incompatible.\n",
            "tensorflow 2.9.2 requires keras<2.10.0,>=2.9.0rc0, but you have keras 2.10.0 which is incompatible.\n",
            "tensorflow 2.9.2 requires tensorboard<2.10,>=2.9, but you have tensorboard 2.10.1 which is incompatible.\n",
            "tensorflow 2.9.2 requires tensorflow-estimator<2.10.0,>=2.9.0rc0, but you have tensorflow-estimator 2.10.0 which is incompatible.\u001b[0m\n",
            "Successfully installed flatbuffers-22.9.24 keras-2.10.0 tensorboard-2.10.1 tensorflow-estimator-2.10.0\n"
          ]
        }
      ],
      "source": [
        "!pip install tensorflow-gpu"
      ]
    },
    {
      "cell_type": "code",
      "execution_count": null,
      "metadata": {
        "colab": {
          "base_uri": "https://localhost:8080/"
        },
        "id": "5l8ch6yKuZz5",
        "outputId": "0485ab54-ba48-489b-cd20-b8b58020d649"
      },
      "outputs": [
        {
          "output_type": "stream",
          "name": "stdout",
          "text": [
            "Looking in indexes: https://pypi.org/simple, https://us-python.pkg.dev/colab-wheels/public/simple/\n",
            "Requirement already satisfied: ann_visualizer in /usr/local/lib/python3.7/dist-packages (2.5)\n",
            "Requirement already satisfied: graphviz in /usr/local/lib/python3.7/dist-packages (0.10.1)\n"
          ]
        }
      ],
      "source": [
        "!pip install ann_visualizer graphviz"
      ]
    },
    {
      "cell_type": "code",
      "source": [
        "from tensorflow.keras.models import Sequential\n",
        "from tensorflow.keras.losses import categorical_crossentropy\n",
        "from tensorflow.keras.optimizers import SGD\n",
        "from tensorflow.keras.layers import Dense\n",
        " \n",
        "from numpy import argmax\n",
        "import numpy as np\n",
        "import re"
      ],
      "metadata": {
        "id": "xMZQE0kQISqv"
      },
      "execution_count": null,
      "outputs": []
    },
    {
      "cell_type": "markdown",
      "source": [
        "### Input Training Data"
      ],
      "metadata": {
        "id": "TlFcV-NxAg4T"
      }
    },
    {
      "cell_type": "code",
      "source": [
        "X = [ \"Vitamin D\", \n",
        "      \"Weakness\", \n",
        "      \"Tooth Pain\", \n",
        "      \"Vomitings\", \n",
        "      \"Body pains\", \n",
        "      \"Throat Pain\",\n",
        "      \"Stomach Pain\",\n",
        "      \"Skin Infection\",\n",
        "      \"Minor Burns\",\n",
        "      \"Diabetes\",\n",
        "      \"Blood Pressure\",\n",
        "      \"Thyroid\",\n",
        "      \"Minor-Cuts\",\n",
        "      \"Cold\",\n",
        "      \"Cough\",\n",
        "      \"Ear Pain\",\n",
        "      \"Septic\",\n",
        "      \"Prevention of Heart Attack\",\n",
        "      \"KidneyStone\",\n",
        "      \"Gastric\"]"
      ],
      "metadata": {
        "id": "NvOJ1Jse9Ap7"
      },
      "execution_count": null,
      "outputs": []
    },
    {
      "cell_type": "code",
      "source": [
        "Y = ['D-rise60k',\n",
        "     'Supradyn',\n",
        "     'Paracetamol',\n",
        "     'Domperidone',\n",
        "     'Coquitmbiflam',\n",
        "     'Eryctro',\n",
        "     'Cyclopam',\n",
        "     'Fluconazole',\n",
        "     'Burnol(Oientiment)',\n",
        "     'Metformin',\n",
        "     'Losartin',\n",
        "     'Thyronorm',\n",
        "     'Betnovate-N(Oientiment)',\n",
        "     'Citrogen',\n",
        "     'Kuff-Q',\n",
        "     'Candibiotic(Drops)',\n",
        "     'Tetanus Vaccine',\n",
        "     'Sorditrate',\n",
        "     'Sustain',\n",
        "     'Pantoprazole']"
      ],
      "metadata": {
        "id": "UslWb8Lb9Gfj"
      },
      "execution_count": null,
      "outputs": []
    },
    {
      "cell_type": "code",
      "source": [
        "print(len(X))\n",
        "print(len(Y))"
      ],
      "metadata": {
        "colab": {
          "base_uri": "https://localhost:8080/"
        },
        "id": "QTQg9tDf_1Q_",
        "outputId": "b8b838a1-1166-4db8-c997-b626b39fbc7a"
      },
      "execution_count": null,
      "outputs": [
        {
          "output_type": "stream",
          "name": "stdout",
          "text": [
            "20\n",
            "20\n"
          ]
        }
      ]
    },
    {
      "cell_type": "markdown",
      "source": [
        "### Text Processing"
      ],
      "metadata": {
        "id": "cmh_MRbrA59Y"
      }
    },
    {
      "cell_type": "markdown",
      "source": [
        "## Removing Non-Alpha Numeric characters"
      ],
      "metadata": {
        "id": "CGT2oeZNBIGJ"
      }
    },
    {
      "cell_type": "code",
      "source": [
        "def remove_non_alpha_numeric_characters(sentence):\n",
        "    new_sentence = ''\n",
        "    for token in sentence:\n",
        "        if token.isalpha() or token == ' ':\n",
        "            new_sentence += token\n",
        "    return new_sentence"
      ],
      "metadata": {
        "id": "udhRVe7XBY9Q"
      },
      "execution_count": null,
      "outputs": []
    },
    {
      "cell_type": "code",
      "source": [
        "def preprocess_data(X):\n",
        "    X = [data_point.lower() for data_point in X]\n",
        "    X = [remove_non_alpha_numeric_characters(sentence) for sentence in X]\n",
        "    X = [data_point.strip() for data_point in X]\n",
        "    X = [re.sub(' +', ' ',data_point) for data_point in X]\n",
        "    return X"
      ],
      "metadata": {
        "id": "tEkjMLChBgik"
      },
      "execution_count": null,
      "outputs": []
    },
    {
      "cell_type": "code",
      "source": [
        "X = preprocess_data(X)\n",
        "\n",
        "vocabulary = set()\n",
        "for data_point in X:\n",
        "    for word in data_point.split(' '):\n",
        "        vocabulary.add(word)\n",
        "\n",
        "vocabulary = list(vocabulary)\n",
        "print(vocabulary)\n",
        "print(len(vocabulary))"
      ],
      "metadata": {
        "colab": {
          "base_uri": "https://localhost:8080/"
        },
        "id": "AO1oGultBmNP",
        "outputId": "9cc3f8cc-669f-448e-8817-1f98439f2069"
      },
      "execution_count": null,
      "outputs": [
        {
          "output_type": "stream",
          "name": "stdout",
          "text": [
            "['gastric', 'tooth', 'weakness', 'd', 'thyroid', 'attack', 'vitamin', 'stomach', 'vomitings', 'infection', 'throat', 'heart', 'skin', 'burns', 'pains', 'cold', 'blood', 'septic', 'ear', 'cough', 'diabetes', 'prevention', 'pain', 'of', 'body', 'minor', 'minorcuts', 'kidneystone', 'pressure']\n",
            "29\n"
          ]
        }
      ]
    },
    {
      "cell_type": "markdown",
      "source": [
        "### Splitting a Sentence"
      ],
      "metadata": {
        "id": "s7_CXgzeGK4n"
      }
    },
    {
      "cell_type": "code",
      "source": [
        "\"hey hello hi there\".split(' ')"
      ],
      "metadata": {
        "colab": {
          "base_uri": "https://localhost:8080/"
        },
        "id": "SI-3pCraGWU0",
        "outputId": "aa9970d9-f1ef-49c5-bcf4-ce739467c74a"
      },
      "execution_count": null,
      "outputs": [
        {
          "output_type": "execute_result",
          "data": {
            "text/plain": [
              "['hey', 'hello', 'hi', 'there']"
            ]
          },
          "metadata": {},
          "execution_count": 20
        }
      ]
    },
    {
      "cell_type": "markdown",
      "source": [
        "## Create document vectors"
      ],
      "metadata": {
        "id": "5hVRl-rYG08T"
      }
    },
    {
      "cell_type": "code",
      "source": [
        "X_encoded = []\n",
        "\n",
        "def encode_sentence(sentence):\n",
        "    sentence = preprocess_data([sentence])[0]\n",
        "    # print(preprocess_data([sentence]))\n",
        "    # print(preprocess_data([sentence])[0])\n",
        "    sentence_encoded = [0] * len(vocabulary)\n",
        "    for i in range(len(vocabulary)):\n",
        "        if vocabulary[i] in sentence.split(' '):\n",
        "            sentence_encoded[i] = 1\n",
        "    return sentence_encoded\n",
        "\n",
        "X_encoded = [encode_sentence(sentence) for sentence in X]\n",
        "print(X_encoded)"
      ],
      "metadata": {
        "colab": {
          "base_uri": "https://localhost:8080/"
        },
        "id": "qSZgNgF1G3f3",
        "outputId": "5d3d3489-93c5-4378-bfb6-1004663675d9"
      },
      "execution_count": null,
      "outputs": [
        {
          "output_type": "stream",
          "name": "stdout",
          "text": [
            "[[0, 0, 0, 1, 0, 0, 1, 0, 0, 0, 0, 0, 0, 0, 0, 0, 0, 0, 0, 0, 0, 0, 0, 0, 0, 0, 0, 0, 0], [0, 0, 1, 0, 0, 0, 0, 0, 0, 0, 0, 0, 0, 0, 0, 0, 0, 0, 0, 0, 0, 0, 0, 0, 0, 0, 0, 0, 0], [0, 1, 0, 0, 0, 0, 0, 0, 0, 0, 0, 0, 0, 0, 0, 0, 0, 0, 0, 0, 0, 0, 1, 0, 0, 0, 0, 0, 0], [0, 0, 0, 0, 0, 0, 0, 0, 1, 0, 0, 0, 0, 0, 0, 0, 0, 0, 0, 0, 0, 0, 0, 0, 0, 0, 0, 0, 0], [0, 0, 0, 0, 0, 0, 0, 0, 0, 0, 0, 0, 0, 0, 1, 0, 0, 0, 0, 0, 0, 0, 0, 0, 1, 0, 0, 0, 0], [0, 0, 0, 0, 0, 0, 0, 0, 0, 0, 1, 0, 0, 0, 0, 0, 0, 0, 0, 0, 0, 0, 1, 0, 0, 0, 0, 0, 0], [0, 0, 0, 0, 0, 0, 0, 1, 0, 0, 0, 0, 0, 0, 0, 0, 0, 0, 0, 0, 0, 0, 1, 0, 0, 0, 0, 0, 0], [0, 0, 0, 0, 0, 0, 0, 0, 0, 1, 0, 0, 1, 0, 0, 0, 0, 0, 0, 0, 0, 0, 0, 0, 0, 0, 0, 0, 0], [0, 0, 0, 0, 0, 0, 0, 0, 0, 0, 0, 0, 0, 1, 0, 0, 0, 0, 0, 0, 0, 0, 0, 0, 0, 1, 0, 0, 0], [0, 0, 0, 0, 0, 0, 0, 0, 0, 0, 0, 0, 0, 0, 0, 0, 0, 0, 0, 0, 1, 0, 0, 0, 0, 0, 0, 0, 0], [0, 0, 0, 0, 0, 0, 0, 0, 0, 0, 0, 0, 0, 0, 0, 0, 1, 0, 0, 0, 0, 0, 0, 0, 0, 0, 0, 0, 1], [0, 0, 0, 0, 1, 0, 0, 0, 0, 0, 0, 0, 0, 0, 0, 0, 0, 0, 0, 0, 0, 0, 0, 0, 0, 0, 0, 0, 0], [0, 0, 0, 0, 0, 0, 0, 0, 0, 0, 0, 0, 0, 0, 0, 0, 0, 0, 0, 0, 0, 0, 0, 0, 0, 0, 1, 0, 0], [0, 0, 0, 0, 0, 0, 0, 0, 0, 0, 0, 0, 0, 0, 0, 1, 0, 0, 0, 0, 0, 0, 0, 0, 0, 0, 0, 0, 0], [0, 0, 0, 0, 0, 0, 0, 0, 0, 0, 0, 0, 0, 0, 0, 0, 0, 0, 0, 1, 0, 0, 0, 0, 0, 0, 0, 0, 0], [0, 0, 0, 0, 0, 0, 0, 0, 0, 0, 0, 0, 0, 0, 0, 0, 0, 0, 1, 0, 0, 0, 1, 0, 0, 0, 0, 0, 0], [0, 0, 0, 0, 0, 0, 0, 0, 0, 0, 0, 0, 0, 0, 0, 0, 0, 1, 0, 0, 0, 0, 0, 0, 0, 0, 0, 0, 0], [0, 0, 0, 0, 0, 1, 0, 0, 0, 0, 0, 1, 0, 0, 0, 0, 0, 0, 0, 0, 0, 1, 0, 1, 0, 0, 0, 0, 0], [0, 0, 0, 0, 0, 0, 0, 0, 0, 0, 0, 0, 0, 0, 0, 0, 0, 0, 0, 0, 0, 0, 0, 0, 0, 0, 0, 1, 0], [1, 0, 0, 0, 0, 0, 0, 0, 0, 0, 0, 0, 0, 0, 0, 0, 0, 0, 0, 0, 0, 0, 0, 0, 0, 0, 0, 0, 0]]\n"
          ]
        }
      ]
    },
    {
      "cell_type": "code",
      "source": [
        "classes = list(set(Y))\n",
        "print(classes)\n",
        "Y_encoded = []\n",
        "for data_point in Y:\n",
        "    data_point_encoded = [0] * len(classes)\n",
        "    for i in range(len(classes)):\n",
        "        if classes[i] == data_point:\n",
        "            data_point_encoded[i] = 1\n",
        "    Y_encoded.append(data_point_encoded)\n",
        "\n",
        "print(Y_encoded)"
      ],
      "metadata": {
        "colab": {
          "base_uri": "https://localhost:8080/"
        },
        "id": "GPOsYrVXHBKP",
        "outputId": "e22e1076-1cd7-4934-9afd-3ee3ef4f948f"
      },
      "execution_count": null,
      "outputs": [
        {
          "output_type": "stream",
          "name": "stdout",
          "text": [
            "['Thyronorm', 'Coquitmbiflam', 'Sorditrate', 'Eryctro', 'Metformin', 'Pantoprazole', 'Tetanus Vaccine', 'Citrogen', 'Cyclopam', 'Losartin', 'Betnovate-N(Oientiment)', 'Sustain', 'Kuff-Q', 'Domperidone', 'Paracetamol', 'Supradyn', 'Candibiotic(Drops)', 'Burnol(Oientiment)', 'D-rise60k', 'Fluconazole']\n",
            "[[0, 0, 0, 0, 0, 0, 0, 0, 0, 0, 0, 0, 0, 0, 0, 0, 0, 0, 1, 0], [0, 0, 0, 0, 0, 0, 0, 0, 0, 0, 0, 0, 0, 0, 0, 1, 0, 0, 0, 0], [0, 0, 0, 0, 0, 0, 0, 0, 0, 0, 0, 0, 0, 0, 1, 0, 0, 0, 0, 0], [0, 0, 0, 0, 0, 0, 0, 0, 0, 0, 0, 0, 0, 1, 0, 0, 0, 0, 0, 0], [0, 1, 0, 0, 0, 0, 0, 0, 0, 0, 0, 0, 0, 0, 0, 0, 0, 0, 0, 0], [0, 0, 0, 1, 0, 0, 0, 0, 0, 0, 0, 0, 0, 0, 0, 0, 0, 0, 0, 0], [0, 0, 0, 0, 0, 0, 0, 0, 1, 0, 0, 0, 0, 0, 0, 0, 0, 0, 0, 0], [0, 0, 0, 0, 0, 0, 0, 0, 0, 0, 0, 0, 0, 0, 0, 0, 0, 0, 0, 1], [0, 0, 0, 0, 0, 0, 0, 0, 0, 0, 0, 0, 0, 0, 0, 0, 0, 1, 0, 0], [0, 0, 0, 0, 1, 0, 0, 0, 0, 0, 0, 0, 0, 0, 0, 0, 0, 0, 0, 0], [0, 0, 0, 0, 0, 0, 0, 0, 0, 1, 0, 0, 0, 0, 0, 0, 0, 0, 0, 0], [1, 0, 0, 0, 0, 0, 0, 0, 0, 0, 0, 0, 0, 0, 0, 0, 0, 0, 0, 0], [0, 0, 0, 0, 0, 0, 0, 0, 0, 0, 1, 0, 0, 0, 0, 0, 0, 0, 0, 0], [0, 0, 0, 0, 0, 0, 0, 1, 0, 0, 0, 0, 0, 0, 0, 0, 0, 0, 0, 0], [0, 0, 0, 0, 0, 0, 0, 0, 0, 0, 0, 0, 1, 0, 0, 0, 0, 0, 0, 0], [0, 0, 0, 0, 0, 0, 0, 0, 0, 0, 0, 0, 0, 0, 0, 0, 1, 0, 0, 0], [0, 0, 0, 0, 0, 0, 1, 0, 0, 0, 0, 0, 0, 0, 0, 0, 0, 0, 0, 0], [0, 0, 1, 0, 0, 0, 0, 0, 0, 0, 0, 0, 0, 0, 0, 0, 0, 0, 0, 0], [0, 0, 0, 0, 0, 0, 0, 0, 0, 0, 0, 1, 0, 0, 0, 0, 0, 0, 0, 0], [0, 0, 0, 0, 0, 1, 0, 0, 0, 0, 0, 0, 0, 0, 0, 0, 0, 0, 0, 0]]\n"
          ]
        }
      ]
    },
    {
      "cell_type": "markdown",
      "source": [
        "# Create training data and test data"
      ],
      "metadata": {
        "id": "krBb_qtoIkV-"
      }
    },
    {
      "cell_type": "code",
      "source": [
        "X_train = X_encoded\n",
        "y_train = Y_encoded\n",
        "X_test = X_encoded\n",
        "y_test = Y_encoded"
      ],
      "metadata": {
        "id": "yNUTKzIWIsgW"
      },
      "execution_count": null,
      "outputs": []
    },
    {
      "cell_type": "code",
      "source": [
        "from sklearn.model_selection import train_test_split\n",
        "X_train, X_test, y_train, y_test = train_test_split(X_encoded,Y_encoded, train_size=0.8, random_state=123, shuffle=True)"
      ],
      "metadata": {
        "id": "oJUnOnLaIyQv"
      },
      "execution_count": null,
      "outputs": []
    },
    {
      "cell_type": "code",
      "source": [
        "print (y_test)"
      ],
      "metadata": {
        "colab": {
          "base_uri": "https://localhost:8080/"
        },
        "id": "8dG9sGDdI9SN",
        "outputId": "dfd43163-4fb9-4488-a3d4-e796a9689409"
      },
      "execution_count": null,
      "outputs": [
        {
          "output_type": "stream",
          "name": "stdout",
          "text": [
            "[[0, 0, 0, 0, 0, 0, 0, 0, 0, 0, 0, 0, 1, 0, 0, 0, 0, 0, 0, 0], [0, 0, 0, 1, 0, 0, 0, 0, 0, 0, 0, 0, 0, 0, 0, 0, 0, 0, 0, 0], [0, 1, 0, 0, 0, 0, 0, 0, 0, 0, 0, 0, 0, 0, 0, 0, 0, 0, 0, 0], [0, 0, 1, 0, 0, 0, 0, 0, 0, 0, 0, 0, 0, 0, 0, 0, 0, 0, 0, 0]]\n"
          ]
        }
      ]
    },
    {
      "cell_type": "code",
      "source": [
        "print(len(X_train))"
      ],
      "metadata": {
        "colab": {
          "base_uri": "https://localhost:8080/"
        },
        "id": "vj9Dxf3AI_5v",
        "outputId": "e701710d-bce0-491b-e941-942e9b4df741"
      },
      "execution_count": null,
      "outputs": [
        {
          "output_type": "stream",
          "name": "stdout",
          "text": [
            "16\n"
          ]
        }
      ]
    },
    {
      "cell_type": "code",
      "source": [
        "y_train"
      ],
      "metadata": {
        "colab": {
          "base_uri": "https://localhost:8080/"
        },
        "id": "Nr_sfYcYJMbg",
        "outputId": "1b54838e-d322-4d8a-df6f-9dffa88684b8"
      },
      "execution_count": null,
      "outputs": [
        {
          "output_type": "execute_result",
          "data": {
            "text/plain": [
              "[[0, 0, 0, 0, 0, 0, 0, 0, 0, 0, 0, 0, 0, 0, 0, 0, 0, 1, 0, 0],\n",
              " [0, 0, 0, 0, 0, 0, 0, 0, 0, 0, 0, 0, 0, 0, 0, 0, 0, 0, 0, 1],\n",
              " [0, 0, 0, 0, 0, 1, 0, 0, 0, 0, 0, 0, 0, 0, 0, 0, 0, 0, 0, 0],\n",
              " [0, 0, 0, 0, 0, 0, 0, 0, 0, 0, 1, 0, 0, 0, 0, 0, 0, 0, 0, 0],\n",
              " [0, 0, 0, 0, 0, 0, 0, 0, 0, 0, 0, 0, 0, 0, 0, 0, 0, 0, 1, 0],\n",
              " [0, 0, 0, 0, 0, 0, 0, 0, 0, 0, 0, 0, 0, 0, 0, 0, 1, 0, 0, 0],\n",
              " [0, 0, 0, 0, 0, 0, 1, 0, 0, 0, 0, 0, 0, 0, 0, 0, 0, 0, 0, 0],\n",
              " [0, 0, 0, 0, 1, 0, 0, 0, 0, 0, 0, 0, 0, 0, 0, 0, 0, 0, 0, 0],\n",
              " [1, 0, 0, 0, 0, 0, 0, 0, 0, 0, 0, 0, 0, 0, 0, 0, 0, 0, 0, 0],\n",
              " [0, 0, 0, 0, 0, 0, 0, 0, 0, 1, 0, 0, 0, 0, 0, 0, 0, 0, 0, 0],\n",
              " [0, 0, 0, 0, 0, 0, 0, 0, 0, 0, 0, 0, 0, 1, 0, 0, 0, 0, 0, 0],\n",
              " [0, 0, 0, 0, 0, 0, 0, 0, 0, 0, 0, 0, 0, 0, 0, 1, 0, 0, 0, 0],\n",
              " [0, 0, 0, 0, 0, 0, 0, 0, 1, 0, 0, 0, 0, 0, 0, 0, 0, 0, 0, 0],\n",
              " [0, 0, 0, 0, 0, 0, 0, 0, 0, 0, 0, 1, 0, 0, 0, 0, 0, 0, 0, 0],\n",
              " [0, 0, 0, 0, 0, 0, 0, 0, 0, 0, 0, 0, 0, 0, 1, 0, 0, 0, 0, 0],\n",
              " [0, 0, 0, 0, 0, 0, 0, 1, 0, 0, 0, 0, 0, 0, 0, 0, 0, 0, 0, 0]]"
            ]
          },
          "metadata": {},
          "execution_count": 27
        }
      ]
    },
    {
      "cell_type": "markdown",
      "source": [
        "# Model training"
      ],
      "metadata": {
        "id": "YE3_WQPwJSmz"
      }
    },
    {
      "cell_type": "code",
      "source": [
        "model = Sequential()\n",
        "model.add(Dense(units=64, activation='sigmoid',\n",
        "                input_dim=len(X_train[0])))\n",
        "model.add(Dense(units=len(y_train[0]), activation='softmax'))\n",
        "model.compile(loss=categorical_crossentropy,\n",
        "              optimizer=SGD(lr=0.01,\n",
        "                            momentum=0.9, nesterov=True))\n",
        "\n",
        "model.fit(np.array(X_train), np.array(y_train), epochs=100, batch_size=1)"
      ],
      "metadata": {
        "colab": {
          "base_uri": "https://localhost:8080/"
        },
        "id": "gnFt3_NVJWDO",
        "outputId": "458c3e42-b58d-428b-a336-a3b89ee9d356"
      },
      "execution_count": null,
      "outputs": [
        {
          "output_type": "stream",
          "name": "stdout",
          "text": [
            "Epoch 1/100\n"
          ]
        },
        {
          "output_type": "stream",
          "name": "stderr",
          "text": [
            "/usr/local/lib/python3.7/dist-packages/keras/optimizers/optimizer_v2/gradient_descent.py:111: UserWarning: The `lr` argument is deprecated, use `learning_rate` instead.\n",
            "  super().__init__(name, **kwargs)\n"
          ]
        },
        {
          "output_type": "stream",
          "name": "stdout",
          "text": [
            "16/16 [==============================] - 0s 2ms/step - loss: 3.4255\n",
            "Epoch 2/100\n",
            "16/16 [==============================] - 0s 2ms/step - loss: 3.2754\n",
            "Epoch 3/100\n",
            "16/16 [==============================] - 0s 2ms/step - loss: 3.1149\n",
            "Epoch 4/100\n",
            "16/16 [==============================] - 0s 2ms/step - loss: 3.1848\n",
            "Epoch 5/100\n",
            "16/16 [==============================] - 0s 2ms/step - loss: 3.0538\n",
            "Epoch 6/100\n",
            "16/16 [==============================] - 0s 2ms/step - loss: 3.1225\n",
            "Epoch 7/100\n",
            "16/16 [==============================] - 0s 2ms/step - loss: 3.0688\n",
            "Epoch 8/100\n",
            "16/16 [==============================] - 0s 2ms/step - loss: 2.9839\n",
            "Epoch 9/100\n",
            "16/16 [==============================] - 0s 2ms/step - loss: 2.9718\n",
            "Epoch 10/100\n",
            "16/16 [==============================] - 0s 2ms/step - loss: 2.9497\n",
            "Epoch 11/100\n",
            "16/16 [==============================] - 0s 2ms/step - loss: 2.9182\n",
            "Epoch 12/100\n",
            "16/16 [==============================] - 0s 2ms/step - loss: 2.8914\n",
            "Epoch 13/100\n",
            "16/16 [==============================] - 0s 2ms/step - loss: 2.9443\n",
            "Epoch 14/100\n",
            "16/16 [==============================] - 0s 2ms/step - loss: 2.8103\n",
            "Epoch 15/100\n",
            "16/16 [==============================] - 0s 2ms/step - loss: 2.7965\n",
            "Epoch 16/100\n",
            "16/16 [==============================] - 0s 3ms/step - loss: 2.7342\n",
            "Epoch 17/100\n",
            "16/16 [==============================] - 0s 2ms/step - loss: 2.7416\n",
            "Epoch 18/100\n",
            "16/16 [==============================] - 0s 2ms/step - loss: 2.7159\n",
            "Epoch 19/100\n",
            "16/16 [==============================] - 0s 2ms/step - loss: 2.6738\n",
            "Epoch 20/100\n",
            "16/16 [==============================] - 0s 2ms/step - loss: 2.6509\n",
            "Epoch 21/100\n",
            "16/16 [==============================] - 0s 2ms/step - loss: 2.6311\n",
            "Epoch 22/100\n",
            "16/16 [==============================] - 0s 2ms/step - loss: 2.4838\n",
            "Epoch 23/100\n",
            "16/16 [==============================] - 0s 2ms/step - loss: 2.5337\n",
            "Epoch 24/100\n",
            "16/16 [==============================] - 0s 2ms/step - loss: 2.4381\n",
            "Epoch 25/100\n",
            "16/16 [==============================] - 0s 2ms/step - loss: 2.3903\n",
            "Epoch 26/100\n",
            "16/16 [==============================] - 0s 2ms/step - loss: 2.4022\n",
            "Epoch 27/100\n",
            "16/16 [==============================] - 0s 2ms/step - loss: 2.3039\n",
            "Epoch 28/100\n",
            "16/16 [==============================] - 0s 2ms/step - loss: 2.2701\n",
            "Epoch 29/100\n",
            "16/16 [==============================] - 0s 2ms/step - loss: 2.2098\n",
            "Epoch 30/100\n",
            "16/16 [==============================] - 0s 2ms/step - loss: 2.2082\n",
            "Epoch 31/100\n",
            "16/16 [==============================] - 0s 2ms/step - loss: 2.1550\n",
            "Epoch 32/100\n",
            "16/16 [==============================] - 0s 2ms/step - loss: 2.1153\n",
            "Epoch 33/100\n",
            "16/16 [==============================] - 0s 2ms/step - loss: 2.0518\n",
            "Epoch 34/100\n",
            "16/16 [==============================] - 0s 3ms/step - loss: 1.9289\n",
            "Epoch 35/100\n",
            "16/16 [==============================] - 0s 2ms/step - loss: 1.9436\n",
            "Epoch 36/100\n",
            "16/16 [==============================] - 0s 2ms/step - loss: 1.8634\n",
            "Epoch 37/100\n",
            "16/16 [==============================] - 0s 2ms/step - loss: 1.8022\n",
            "Epoch 38/100\n",
            "16/16 [==============================] - 0s 2ms/step - loss: 1.7123\n",
            "Epoch 39/100\n",
            "16/16 [==============================] - 0s 2ms/step - loss: 1.6863\n",
            "Epoch 40/100\n",
            "16/16 [==============================] - 0s 2ms/step - loss: 1.6381\n",
            "Epoch 41/100\n",
            "16/16 [==============================] - 0s 2ms/step - loss: 1.5618\n",
            "Epoch 42/100\n",
            "16/16 [==============================] - 0s 2ms/step - loss: 1.5217\n",
            "Epoch 43/100\n",
            "16/16 [==============================] - 0s 2ms/step - loss: 1.4340\n",
            "Epoch 44/100\n",
            "16/16 [==============================] - 0s 2ms/step - loss: 1.4338\n",
            "Epoch 45/100\n",
            "16/16 [==============================] - 0s 2ms/step - loss: 1.3760\n",
            "Epoch 46/100\n",
            "16/16 [==============================] - 0s 2ms/step - loss: 1.3097\n",
            "Epoch 47/100\n",
            "16/16 [==============================] - 0s 2ms/step - loss: 1.2285\n",
            "Epoch 48/100\n",
            "16/16 [==============================] - 0s 2ms/step - loss: 1.2117\n",
            "Epoch 49/100\n",
            "16/16 [==============================] - 0s 2ms/step - loss: 1.1481\n",
            "Epoch 50/100\n",
            "16/16 [==============================] - 0s 2ms/step - loss: 1.1067\n",
            "Epoch 51/100\n",
            "16/16 [==============================] - 0s 2ms/step - loss: 1.0978\n",
            "Epoch 52/100\n",
            "16/16 [==============================] - 0s 2ms/step - loss: 1.0061\n",
            "Epoch 53/100\n",
            "16/16 [==============================] - 0s 2ms/step - loss: 0.9745\n",
            "Epoch 54/100\n",
            "16/16 [==============================] - 0s 2ms/step - loss: 0.9171\n",
            "Epoch 55/100\n",
            "16/16 [==============================] - 0s 2ms/step - loss: 0.8651\n",
            "Epoch 56/100\n",
            "16/16 [==============================] - 0s 2ms/step - loss: 0.8506\n",
            "Epoch 57/100\n",
            "16/16 [==============================] - 0s 2ms/step - loss: 0.7741\n",
            "Epoch 58/100\n",
            "16/16 [==============================] - 0s 2ms/step - loss: 0.7755\n",
            "Epoch 59/100\n",
            "16/16 [==============================] - 0s 2ms/step - loss: 0.7311\n",
            "Epoch 60/100\n",
            "16/16 [==============================] - 0s 2ms/step - loss: 0.6981\n",
            "Epoch 61/100\n",
            "16/16 [==============================] - 0s 2ms/step - loss: 0.6481\n",
            "Epoch 62/100\n",
            "16/16 [==============================] - 0s 2ms/step - loss: 0.6067\n",
            "Epoch 63/100\n",
            "16/16 [==============================] - 0s 2ms/step - loss: 0.5956\n",
            "Epoch 64/100\n",
            "16/16 [==============================] - 0s 2ms/step - loss: 0.5798\n",
            "Epoch 65/100\n",
            "16/16 [==============================] - 0s 2ms/step - loss: 0.5271\n",
            "Epoch 66/100\n",
            "16/16 [==============================] - 0s 2ms/step - loss: 0.5041\n",
            "Epoch 67/100\n",
            "16/16 [==============================] - 0s 2ms/step - loss: 0.4827\n",
            "Epoch 68/100\n",
            "16/16 [==============================] - 0s 2ms/step - loss: 0.4510\n",
            "Epoch 69/100\n",
            "16/16 [==============================] - 0s 2ms/step - loss: 0.4350\n",
            "Epoch 70/100\n",
            "16/16 [==============================] - 0s 2ms/step - loss: 0.3992\n",
            "Epoch 71/100\n",
            "16/16 [==============================] - 0s 2ms/step - loss: 0.4038\n",
            "Epoch 72/100\n",
            "16/16 [==============================] - 0s 2ms/step - loss: 0.3746\n",
            "Epoch 73/100\n",
            "16/16 [==============================] - 0s 2ms/step - loss: 0.3530\n",
            "Epoch 74/100\n",
            "16/16 [==============================] - 0s 2ms/step - loss: 0.3489\n",
            "Epoch 75/100\n",
            "16/16 [==============================] - 0s 2ms/step - loss: 0.3321\n",
            "Epoch 76/100\n",
            "16/16 [==============================] - 0s 2ms/step - loss: 0.3102\n",
            "Epoch 77/100\n",
            "16/16 [==============================] - 0s 2ms/step - loss: 0.3000\n",
            "Epoch 78/100\n",
            "16/16 [==============================] - 0s 2ms/step - loss: 0.2898\n",
            "Epoch 79/100\n",
            "16/16 [==============================] - 0s 2ms/step - loss: 0.2766\n",
            "Epoch 80/100\n",
            "16/16 [==============================] - 0s 2ms/step - loss: 0.2660\n",
            "Epoch 81/100\n",
            "16/16 [==============================] - 0s 2ms/step - loss: 0.2537\n",
            "Epoch 82/100\n",
            "16/16 [==============================] - 0s 2ms/step - loss: 0.2415\n",
            "Epoch 83/100\n",
            "16/16 [==============================] - 0s 2ms/step - loss: 0.2354\n",
            "Epoch 84/100\n",
            "16/16 [==============================] - 0s 2ms/step - loss: 0.2283\n",
            "Epoch 85/100\n",
            "16/16 [==============================] - 0s 2ms/step - loss: 0.2160\n",
            "Epoch 86/100\n",
            "16/16 [==============================] - 0s 2ms/step - loss: 0.2076\n",
            "Epoch 87/100\n",
            "16/16 [==============================] - 0s 2ms/step - loss: 0.2038\n",
            "Epoch 88/100\n",
            "16/16 [==============================] - 0s 2ms/step - loss: 0.1975\n",
            "Epoch 89/100\n",
            "16/16 [==============================] - 0s 2ms/step - loss: 0.1897\n",
            "Epoch 90/100\n",
            "16/16 [==============================] - 0s 2ms/step - loss: 0.1824\n",
            "Epoch 91/100\n",
            "16/16 [==============================] - 0s 2ms/step - loss: 0.1749\n",
            "Epoch 92/100\n",
            "16/16 [==============================] - 0s 2ms/step - loss: 0.1708\n",
            "Epoch 93/100\n",
            "16/16 [==============================] - 0s 2ms/step - loss: 0.1658\n",
            "Epoch 94/100\n",
            "16/16 [==============================] - 0s 2ms/step - loss: 0.1590\n",
            "Epoch 95/100\n",
            "16/16 [==============================] - 0s 2ms/step - loss: 0.1576\n",
            "Epoch 96/100\n",
            "16/16 [==============================] - 0s 2ms/step - loss: 0.1515\n",
            "Epoch 97/100\n",
            "16/16 [==============================] - 0s 2ms/step - loss: 0.1489\n",
            "Epoch 98/100\n",
            "16/16 [==============================] - 0s 2ms/step - loss: 0.1428\n",
            "Epoch 99/100\n",
            "16/16 [==============================] - 0s 2ms/step - loss: 0.1388\n",
            "Epoch 100/100\n",
            "16/16 [==============================] - 0s 2ms/step - loss: 0.1349\n"
          ]
        },
        {
          "output_type": "execute_result",
          "data": {
            "text/plain": [
              "<keras.callbacks.History at 0x7f07a19d7e10>"
            ]
          },
          "metadata": {},
          "execution_count": 28
        }
      ]
    },
    {
      "cell_type": "code",
      "source": [
        "print(\"The model summary is this.It shows the model structure\", model.summary())"
      ],
      "metadata": {
        "colab": {
          "base_uri": "https://localhost:8080/"
        },
        "id": "5pa_sneDKVHe",
        "outputId": "692eb1cf-59bd-45b5-9331-6ead5659c5fe"
      },
      "execution_count": null,
      "outputs": [
        {
          "output_type": "stream",
          "name": "stdout",
          "text": [
            "Model: \"sequential\"\n",
            "_________________________________________________________________\n",
            " Layer (type)                Output Shape              Param #   \n",
            "=================================================================\n",
            " dense (Dense)               (None, 64)                1920      \n",
            "                                                                 \n",
            " dense_1 (Dense)             (None, 20)                1300      \n",
            "                                                                 \n",
            "=================================================================\n",
            "Total params: 3,220\n",
            "Trainable params: 3,220\n",
            "Non-trainable params: 0\n",
            "_________________________________________________________________\n",
            "The model summary is this.It shows the model structure None\n"
          ]
        }
      ]
    },
    {
      "cell_type": "code",
      "source": [
        "from ann_visualizer.visualize import ann_viz\n",
        "ann_viz(model, title=\"Nueral Network for Healthbot looks\")"
      ],
      "metadata": {
        "id": "NClg29J_KYul"
      },
      "execution_count": null,
      "outputs": []
    },
    {
      "cell_type": "markdown",
      "source": [
        "## List down predictions"
      ],
      "metadata": {
        "id": "nXjCpl36KrJy"
      }
    },
    {
      "cell_type": "code",
      "source": [
        "predicted_value = model.predict(np.array(X_test))\n",
        "predictions = [argmax(pred) for pred in model.predict(np.array(X_test))]\n",
        "print(\"The predicted value is\", predicted_value)\n",
        "print(\"The predicted value using argmax is\", predictions)\n",
        "print(\"The actual value is\", y_test)"
      ],
      "metadata": {
        "colab": {
          "base_uri": "https://localhost:8080/"
        },
        "id": "k_dGWV-JKtdy",
        "outputId": "8dd6bbc0-7d95-4143-9b32-6101c60893b1"
      },
      "execution_count": null,
      "outputs": [
        {
          "output_type": "stream",
          "name": "stdout",
          "text": [
            "1/1 [==============================] - 0s 159ms/step\n",
            "1/1 [==============================] - 0s 22ms/step\n",
            "The predicted value is [[6.5070309e-02 4.3575457e-04 4.0945449e-04 4.0358712e-04 1.2328901e-01\n",
            "  9.9191152e-02 7.4868038e-02 7.3479109e-02 1.4218960e-02 3.4240350e-02\n",
            "  7.7242412e-02 9.6497320e-02 3.6675445e-04 8.5024543e-02 1.5362038e-02\n",
            "  1.0389740e-01 2.1170113e-02 4.1615538e-02 3.7509117e-02 3.5708956e-02]\n",
            " [9.0173520e-03 1.9336716e-04 2.3949450e-04 1.8281673e-04 1.2116299e-02\n",
            "  2.7421480e-02 2.2901729e-02 1.8859515e-02 2.2890691e-01 7.3798173e-03\n",
            "  3.4305956e-02 2.2511993e-02 1.9312518e-04 1.7429413e-02 2.6373231e-01\n",
            "  2.3443932e-02 2.8108248e-01 1.0899930e-02 8.4076999e-03 1.0774379e-02]\n",
            " [7.4112900e-02 4.4769063e-04 4.3037484e-04 4.3114778e-04 6.9332071e-02\n",
            "  6.4127274e-02 1.1467110e-01 8.4457919e-02 1.9725915e-02 2.5129534e-02\n",
            "  8.0040947e-02 1.3868453e-01 4.2482530e-04 8.1215426e-02 2.0997571e-02\n",
            "  9.0478644e-02 2.7229078e-02 3.5179134e-02 3.4856308e-02 3.8027577e-02]\n",
            " [8.4636576e-02 3.8133588e-04 3.5818067e-04 3.1339694e-04 6.1319750e-02\n",
            "  8.0707349e-02 9.7597249e-02 1.1678181e-01 2.2380019e-02 3.9730325e-02\n",
            "  6.1350722e-02 7.2594546e-02 3.6831840e-04 1.1745317e-01 2.9423296e-02\n",
            "  5.1868346e-02 5.1290713e-02 3.6923043e-02 3.6536541e-02 3.7985310e-02]]\n",
            "The predicted value using argmax is [4, 16, 11, 13]\n",
            "The actual value is [[0, 0, 0, 0, 0, 0, 0, 0, 0, 0, 0, 0, 1, 0, 0, 0, 0, 0, 0, 0], [0, 0, 0, 1, 0, 0, 0, 0, 0, 0, 0, 0, 0, 0, 0, 0, 0, 0, 0, 0], [0, 1, 0, 0, 0, 0, 0, 0, 0, 0, 0, 0, 0, 0, 0, 0, 0, 0, 0, 0], [0, 0, 1, 0, 0, 0, 0, 0, 0, 0, 0, 0, 0, 0, 0, 0, 0, 0, 0, 0]]\n"
          ]
        }
      ]
    },
    {
      "cell_type": "markdown",
      "source": [
        "# Model Evaluation"
      ],
      "metadata": {
        "id": "pA7yh9AbKxrV"
      }
    },
    {
      "cell_type": "code",
      "source": [
        "correct = 0\n",
        "for i in range(len(predictions)):\n",
        "    if predictions[i] == argmax(y_test[i]):\n",
        "        correct += 1\n",
        "\n",
        "print (\"Correct:\", correct)\n",
        "print (\"Total:\", len(predictions))"
      ],
      "metadata": {
        "colab": {
          "base_uri": "https://localhost:8080/"
        },
        "id": "5Bnj4aA2LiJl",
        "outputId": "d25f8b8e-8a05-402a-af64-7407d49aaa50"
      },
      "execution_count": null,
      "outputs": [
        {
          "output_type": "stream",
          "name": "stdout",
          "text": [
            "Correct: 0\n",
            "Total: 4\n"
          ]
        }
      ]
    },
    {
      "cell_type": "markdown",
      "source": [
        "# Testing the chatbot"
      ],
      "metadata": {
        "id": "jrxhom2fRH_z"
      }
    },
    {
      "cell_type": "code",
      "source": [
        "\n",
        "while True:\n",
        "    print (X)\n",
        "    sentence = input()\n",
        "    if sentence == 'quit':\n",
        "      break\n",
        "    else:\n",
        "      prediction= model.predict(np.array([encode_sentence(sentence)]))\n",
        "      print (classes[argmax(prediction)])\n"
      ],
      "metadata": {
        "colab": {
          "base_uri": "https://localhost:8080/",
          "height": 870
        },
        "id": "kzj4dvH0RJ_d",
        "outputId": "971e709e-9e0a-4682-b024-8f9e78da85cf"
      },
      "execution_count": null,
      "outputs": [
        {
          "output_type": "stream",
          "name": "stdout",
          "text": [
            "['vitamin d', 'weakness', 'tooth pain', 'vomitings', 'body pains', 'throat pain', 'stomach pain', 'skin infection', 'minor burns', 'diabetes', 'blood pressure', 'thyroid', 'minorcuts', 'cold', 'cough', 'ear pain', 'septic', 'prevention of heart attack', 'kidneystone', 'gastric']\n",
            "['D-rise60k', 'Supradyn', 'Paracetamol', 'Domperidone', 'Coquitmbiflam', 'Eryctro', 'Cyclopam', 'Fluconazole', 'Burnol(Oientiment)', 'Metformin', 'Losartin', 'Thyronorm', 'Betnovate-N(Oientiment)', 'Citrogen', 'Kuff-Q', 'Candibiotic(Drops)', 'Tetanus Vaccine', 'Sorditrate', 'Sustain', 'Pantoprazole']\n",
            "vitamin d\n",
            "1/1 [==============================] - 0s 29ms/step\n",
            "D-rise60k\n",
            "['vitamin d', 'weakness', 'tooth pain', 'vomitings', 'body pains', 'throat pain', 'stomach pain', 'skin infection', 'minor burns', 'diabetes', 'blood pressure', 'thyroid', 'minorcuts', 'cold', 'cough', 'ear pain', 'septic', 'prevention of heart attack', 'kidneystone', 'gastric']\n",
            "['D-rise60k', 'Supradyn', 'Paracetamol', 'Domperidone', 'Coquitmbiflam', 'Eryctro', 'Cyclopam', 'Fluconazole', 'Burnol(Oientiment)', 'Metformin', 'Losartin', 'Thyronorm', 'Betnovate-N(Oientiment)', 'Citrogen', 'Kuff-Q', 'Candibiotic(Drops)', 'Tetanus Vaccine', 'Sorditrate', 'Sustain', 'Pantoprazole']\n",
            "gastric\n",
            "1/1 [==============================] - 0s 23ms/step\n",
            "Pantoprazole\n",
            "['vitamin d', 'weakness', 'tooth pain', 'vomitings', 'body pains', 'throat pain', 'stomach pain', 'skin infection', 'minor burns', 'diabetes', 'blood pressure', 'thyroid', 'minorcuts', 'cold', 'cough', 'ear pain', 'septic', 'prevention of heart attack', 'kidneystone', 'gastric']\n",
            "['D-rise60k', 'Supradyn', 'Paracetamol', 'Domperidone', 'Coquitmbiflam', 'Eryctro', 'Cyclopam', 'Fluconazole', 'Burnol(Oientiment)', 'Metformin', 'Losartin', 'Thyronorm', 'Betnovate-N(Oientiment)', 'Citrogen', 'Kuff-Q', 'Candibiotic(Drops)', 'Tetanus Vaccine', 'Sorditrate', 'Sustain', 'Pantoprazole']\n",
            "stomach pain\n",
            "1/1 [==============================] - 0s 24ms/step\n",
            "Cyclopam\n",
            "['vitamin d', 'weakness', 'tooth pain', 'vomitings', 'body pains', 'throat pain', 'stomach pain', 'skin infection', 'minor burns', 'diabetes', 'blood pressure', 'thyroid', 'minorcuts', 'cold', 'cough', 'ear pain', 'septic', 'prevention of heart attack', 'kidneystone', 'gastric']\n",
            "['D-rise60k', 'Supradyn', 'Paracetamol', 'Domperidone', 'Coquitmbiflam', 'Eryctro', 'Cyclopam', 'Fluconazole', 'Burnol(Oientiment)', 'Metformin', 'Losartin', 'Thyronorm', 'Betnovate-N(Oientiment)', 'Citrogen', 'Kuff-Q', 'Candibiotic(Drops)', 'Tetanus Vaccine', 'Sorditrate', 'Sustain', 'Pantoprazole']\n",
            "vomitings\n",
            "1/1 [==============================] - 0s 22ms/step\n",
            "Domperidone\n",
            "['vitamin d', 'weakness', 'tooth pain', 'vomitings', 'body pains', 'throat pain', 'stomach pain', 'skin infection', 'minor burns', 'diabetes', 'blood pressure', 'thyroid', 'minorcuts', 'cold', 'cough', 'ear pain', 'septic', 'prevention of heart attack', 'kidneystone', 'gastric']\n",
            "['D-rise60k', 'Supradyn', 'Paracetamol', 'Domperidone', 'Coquitmbiflam', 'Eryctro', 'Cyclopam', 'Fluconazole', 'Burnol(Oientiment)', 'Metformin', 'Losartin', 'Thyronorm', 'Betnovate-N(Oientiment)', 'Citrogen', 'Kuff-Q', 'Candibiotic(Drops)', 'Tetanus Vaccine', 'Sorditrate', 'Sustain', 'Pantoprazole']\n",
            "thyroid\n",
            "1/1 [==============================] - 0s 29ms/step\n",
            "Thyronorm\n",
            "['vitamin d', 'weakness', 'tooth pain', 'vomitings', 'body pains', 'throat pain', 'stomach pain', 'skin infection', 'minor burns', 'diabetes', 'blood pressure', 'thyroid', 'minorcuts', 'cold', 'cough', 'ear pain', 'septic', 'prevention of heart attack', 'kidneystone', 'gastric']\n",
            "['D-rise60k', 'Supradyn', 'Paracetamol', 'Domperidone', 'Coquitmbiflam', 'Eryctro', 'Cyclopam', 'Fluconazole', 'Burnol(Oientiment)', 'Metformin', 'Losartin', 'Thyronorm', 'Betnovate-N(Oientiment)', 'Citrogen', 'Kuff-Q', 'Candibiotic(Drops)', 'Tetanus Vaccine', 'Sorditrate', 'Sustain', 'Pantoprazole']\n"
          ]
        },
        {
          "output_type": "error",
          "ename": "KeyboardInterrupt",
          "evalue": "ignored",
          "traceback": [
            "\u001b[0;31m---------------------------------------------------------------------------\u001b[0m",
            "\u001b[0;31mKeyboardInterrupt\u001b[0m                         Traceback (most recent call last)",
            "\u001b[0;32m<ipython-input-33-d7c963b7aa1e>\u001b[0m in \u001b[0;36m<module>\u001b[0;34m\u001b[0m\n\u001b[1;32m      2\u001b[0m     \u001b[0mprint\u001b[0m \u001b[0;34m(\u001b[0m\u001b[0mX\u001b[0m\u001b[0;34m)\u001b[0m\u001b[0;34m\u001b[0m\u001b[0;34m\u001b[0m\u001b[0m\n\u001b[1;32m      3\u001b[0m     \u001b[0mprint\u001b[0m\u001b[0;34m(\u001b[0m\u001b[0mY\u001b[0m\u001b[0;34m)\u001b[0m\u001b[0;34m\u001b[0m\u001b[0;34m\u001b[0m\u001b[0m\n\u001b[0;32m----> 4\u001b[0;31m     \u001b[0msentence\u001b[0m \u001b[0;34m=\u001b[0m \u001b[0minput\u001b[0m\u001b[0;34m(\u001b[0m\u001b[0;34m)\u001b[0m\u001b[0;34m\u001b[0m\u001b[0;34m\u001b[0m\u001b[0m\n\u001b[0m\u001b[1;32m      5\u001b[0m     \u001b[0;32mif\u001b[0m \u001b[0msentence\u001b[0m \u001b[0;34m==\u001b[0m \u001b[0;34m'quit'\u001b[0m\u001b[0;34m:\u001b[0m\u001b[0;34m\u001b[0m\u001b[0;34m\u001b[0m\u001b[0m\n\u001b[1;32m      6\u001b[0m       \u001b[0;32mbreak\u001b[0m\u001b[0;34m\u001b[0m\u001b[0;34m\u001b[0m\u001b[0m\n",
            "\u001b[0;32m/usr/local/lib/python3.7/dist-packages/ipykernel/kernelbase.py\u001b[0m in \u001b[0;36mraw_input\u001b[0;34m(self, prompt)\u001b[0m\n\u001b[1;32m    861\u001b[0m             \u001b[0mself\u001b[0m\u001b[0;34m.\u001b[0m\u001b[0m_parent_ident\u001b[0m\u001b[0;34m,\u001b[0m\u001b[0;34m\u001b[0m\u001b[0;34m\u001b[0m\u001b[0m\n\u001b[1;32m    862\u001b[0m             \u001b[0mself\u001b[0m\u001b[0;34m.\u001b[0m\u001b[0m_parent_header\u001b[0m\u001b[0;34m,\u001b[0m\u001b[0;34m\u001b[0m\u001b[0;34m\u001b[0m\u001b[0m\n\u001b[0;32m--> 863\u001b[0;31m             \u001b[0mpassword\u001b[0m\u001b[0;34m=\u001b[0m\u001b[0;32mFalse\u001b[0m\u001b[0;34m,\u001b[0m\u001b[0;34m\u001b[0m\u001b[0;34m\u001b[0m\u001b[0m\n\u001b[0m\u001b[1;32m    864\u001b[0m         )\n\u001b[1;32m    865\u001b[0m \u001b[0;34m\u001b[0m\u001b[0m\n",
            "\u001b[0;32m/usr/local/lib/python3.7/dist-packages/ipykernel/kernelbase.py\u001b[0m in \u001b[0;36m_input_request\u001b[0;34m(self, prompt, ident, parent, password)\u001b[0m\n\u001b[1;32m    902\u001b[0m             \u001b[0;32mexcept\u001b[0m \u001b[0mKeyboardInterrupt\u001b[0m\u001b[0;34m:\u001b[0m\u001b[0;34m\u001b[0m\u001b[0;34m\u001b[0m\u001b[0m\n\u001b[1;32m    903\u001b[0m                 \u001b[0;31m# re-raise KeyboardInterrupt, to truncate traceback\u001b[0m\u001b[0;34m\u001b[0m\u001b[0;34m\u001b[0m\u001b[0;34m\u001b[0m\u001b[0m\n\u001b[0;32m--> 904\u001b[0;31m                 \u001b[0;32mraise\u001b[0m \u001b[0mKeyboardInterrupt\u001b[0m\u001b[0;34m(\u001b[0m\u001b[0;34m\"Interrupted by user\"\u001b[0m\u001b[0;34m)\u001b[0m \u001b[0;32mfrom\u001b[0m \u001b[0;32mNone\u001b[0m\u001b[0;34m\u001b[0m\u001b[0;34m\u001b[0m\u001b[0m\n\u001b[0m\u001b[1;32m    905\u001b[0m             \u001b[0;32mexcept\u001b[0m \u001b[0mException\u001b[0m \u001b[0;32mas\u001b[0m \u001b[0me\u001b[0m\u001b[0;34m:\u001b[0m\u001b[0;34m\u001b[0m\u001b[0;34m\u001b[0m\u001b[0m\n\u001b[1;32m    906\u001b[0m                 \u001b[0mself\u001b[0m\u001b[0;34m.\u001b[0m\u001b[0mlog\u001b[0m\u001b[0;34m.\u001b[0m\u001b[0mwarning\u001b[0m\u001b[0;34m(\u001b[0m\u001b[0;34m\"Invalid Message:\"\u001b[0m\u001b[0;34m,\u001b[0m \u001b[0mexc_info\u001b[0m\u001b[0;34m=\u001b[0m\u001b[0;32mTrue\u001b[0m\u001b[0;34m)\u001b[0m\u001b[0;34m\u001b[0m\u001b[0;34m\u001b[0m\u001b[0m\n",
            "\u001b[0;31mKeyboardInterrupt\u001b[0m: Interrupted by user"
          ]
        }
      ]
    }
  ],
  "metadata": {
    "colab": {
      "provenance": [],
      "collapsed_sections": []
    },
    "kernelspec": {
      "display_name": "Python 3",
      "name": "python3"
    },
    "language_info": {
      "name": "python"
    }
  },
  "nbformat": 4,
  "nbformat_minor": 0
}